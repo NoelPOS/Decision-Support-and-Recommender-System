{
  "nbformat": 4,
  "nbformat_minor": 0,
  "metadata": {
    "colab": {
      "provenance": [],
      "gpuType": "V28"
    },
    "kernelspec": {
      "name": "python3",
      "display_name": "Python 3"
    },
    "language_info": {
      "name": "python"
    },
    "accelerator": "TPU"
  },
  "cells": [
    {
      "cell_type": "code",
      "source": [
        "# Import Required Libraries\n",
        "import pandas as pd\n",
        "import numpy as np\n",
        "from sklearn.preprocessing import LabelEncoder\n",
        "\n",
        "# Load the Datasets\n",
        "train_file_path = '/content/drive/MyDrive/Recommender/Beer_taste_Reviews_1M_trainingset.csv'\n",
        "test_file_path = '/content/drive/MyDrive/Recommender/Beer_taste_Reviews_1M_testset.csv'\n",
        "\n",
        "train_data = pd.read_csv(train_file_path)\n",
        "test_data = pd.read_csv(test_file_path)\n",
        "\n",
        "# Encode Users and Items\n",
        "def encode_data(train, test):\n",
        "    user_encoder = LabelEncoder()\n",
        "    item_encoder = LabelEncoder()\n",
        "\n",
        "    train['user_idx'] = user_encoder.fit_transform(train['review_profilename'])\n",
        "    train['item_idx'] = item_encoder.fit_transform(train['beer_beerid'])\n",
        "\n",
        "    test['user_idx'] = test['review_profilename'].map(dict(zip(train['review_profilename'], train['user_idx'])))\n",
        "    test['item_idx'] = test['beer_beerid'].map(dict(zip(train['beer_beerid'], train['item_idx'])))\n",
        "\n",
        "    return train, test\n",
        "\n",
        "train_data, test_data = encode_data(train_data, test_data)\n",
        "\n",
        "# Create User-Item Matrix\n",
        "train_matrix = train_data.pivot_table(index='user_idx', columns='item_idx', values='review_taste')\n",
        "\n",
        "# Compute Cosine Similarity\n",
        "def calculate_cosine_similarity(matrix):\n",
        "    # Fill NaN values with 0\n",
        "    filled_matrix = matrix.fillna(0)\n",
        "\n",
        "    # Calculate item similarities\n",
        "    norms = np.linalg.norm(filled_matrix, axis=0)\n",
        "    similarity_matrix = np.dot(filled_matrix.T, filled_matrix) / np.outer(norms, norms)\n",
        "\n",
        "    # Remove self-similarity\n",
        "    np.fill_diagonal(similarity_matrix, 0)\n",
        "    return pd.DataFrame(similarity_matrix, index=matrix.columns, columns=matrix.columns)\n",
        "\n",
        "item_similarity_matrix = calculate_cosine_similarity(train_matrix)\n",
        "\n",
        "# Predict Ratings\n",
        "def predict_rating(user_id, item_id):\n",
        "    if item_id not in item_similarity_matrix.index or user_id not in train_matrix.index:\n",
        "        return np.nan\n",
        "\n",
        "    # Get similarities and user ratings\n",
        "    similarities = item_similarity_matrix[item_id].drop(item_id).sort_values(ascending=False)\n",
        "    user_ratings = train_matrix.loc[user_id].dropna()\n",
        "\n",
        "    # Calculate weighted sum of ratings\n",
        "    numerator = sum(similarities[item] * user_ratings[item] for item in user_ratings.index if item in similarities.index)\n",
        "    denominator = sum(similarities[item] for item in user_ratings.index if item in similarities.index)\n",
        "\n",
        "    if denominator == 0:\n",
        "        return train_matrix.loc[user_id].mean()  # Fallback to user mean if no ratings\n",
        "    return numerator / denominator\n",
        "\n",
        "# Generate Predictions for Test Data\n",
        "test_data['predicted_review_taste'] = test_data.apply(lambda row: predict_rating(row['user_idx'], row['item_idx']), axis=1)\n",
        "\n",
        "# Calculate RMSE\n",
        "def calculate_rmse(actual, predicted):\n",
        "    valid_mask = ~np.isnan(actual) & ~np.isnan(predicted)\n",
        "    mse = np.mean((actual[valid_mask] - predicted[valid_mask]) ** 2)\n",
        "    return np.sqrt(mse)\n",
        "\n",
        "rmse_value = calculate_rmse(test_data['review_taste'].values, test_data['predicted_review_taste'].values)\n",
        "\n",
        "# Save Predictions and RMSE to Files\n",
        "test_data[['brewery_id', 'beer_beerid', 'review_profilename', 'review_taste', 'predicted_review_taste']].to_csv(\n",
        "    'Part1_File1_PredictedRatings_Group[7].csv', index=False)\n",
        "\n",
        "with open('Part1_File2_RMSE_Group[7].txt', 'w') as file:\n",
        "    file.write(f'RMSE: {rmse_value:.4f}')\n",
        "\n",
        "print(f'RMSE on Test Data: {rmse_value:.4f}')\n"
      ],
      "metadata": {
        "colab": {
          "base_uri": "https://localhost:8080/"
        },
        "id": "0zpJVk1KVztc",
        "outputId": "29aa00ce-1b37-4a76-eb68-a7cafddff9e3"
      },
      "execution_count": 28,
      "outputs": [
        {
          "output_type": "stream",
          "name": "stdout",
          "text": [
            "RMSE on Test Data: 0.6551\n"
          ]
        }
      ]
    }
  ]
}