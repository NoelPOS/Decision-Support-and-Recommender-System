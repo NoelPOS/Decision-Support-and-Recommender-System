{
  "nbformat": 4,
  "nbformat_minor": 0,
  "metadata": {
    "colab": {
      "provenance": []
    },
    "kernelspec": {
      "name": "python3",
      "display_name": "Python 3"
    },
    "language_info": {
      "name": "python"
    }
  },
  "cells": [
    {
      "cell_type": "code",
      "source": [
        "from google.colab import drive\n",
        "drive.mount('/content/drive')"
      ],
      "metadata": {
        "colab": {
          "base_uri": "https://localhost:8080/"
        },
        "id": "09RcEqpXH_Z1",
        "outputId": "8399bb86-44d8-4cd2-ce4c-9eec182cec86"
      },
      "execution_count": 1,
      "outputs": [
        {
          "output_type": "stream",
          "name": "stdout",
          "text": [
            "Mounted at /content/drive\n"
          ]
        }
      ]
    },
    {
      "cell_type": "code",
      "source": [
        "import pandas as pd\n",
        "\n",
        "file_path = '/content/drive/MyDrive/Recommender/Beer_taste_Reviews_1M_trainingset.csv'\n",
        "df = pd.read_csv(file_path)\n"
      ],
      "metadata": {
        "id": "zGrxluyRIqjT"
      },
      "execution_count": 27,
      "outputs": []
    },
    {
      "cell_type": "code",
      "source": [
        "df.shape"
      ],
      "metadata": {
        "id": "qkxP9wivLDvJ",
        "colab": {
          "base_uri": "https://localhost:8080/"
        },
        "outputId": "a11d347a-f85f-4b9c-dac4-fcc1038f9297"
      },
      "execution_count": 28,
      "outputs": [
        {
          "output_type": "execute_result",
          "data": {
            "text/plain": [
              "(1047592, 10)"
            ]
          },
          "metadata": {},
          "execution_count": 28
        }
      ]
    },
    {
      "cell_type": "code",
      "source": [
        "df = df[['review_profilename', 'beer_beerid', 'review_taste']]\n",
        "df.shape\n",
        "\n"
      ],
      "metadata": {
        "colab": {
          "base_uri": "https://localhost:8080/"
        },
        "id": "exRb9iN6TX2M",
        "outputId": "96e38145-c3f8-4c54-cff5-fb1ec0e129d9"
      },
      "execution_count": 29,
      "outputs": [
        {
          "output_type": "execute_result",
          "data": {
            "text/plain": [
              "(1047592, 3)"
            ]
          },
          "metadata": {},
          "execution_count": 29
        }
      ]
    },
    {
      "cell_type": "code",
      "source": [
        "df.dropna(inplace=True)\n",
        "df.shape"
      ],
      "metadata": {
        "colab": {
          "base_uri": "https://localhost:8080/"
        },
        "id": "mkzAEi_rTpc1",
        "outputId": "0b764c9b-7dea-41d7-8181-cf8bcdac70ab"
      },
      "execution_count": 30,
      "outputs": [
        {
          "output_type": "execute_result",
          "data": {
            "text/plain": [
              "(1047357, 3)"
            ]
          },
          "metadata": {},
          "execution_count": 30
        }
      ]
    },
    {
      "cell_type": "code",
      "source": [
        "from sklearn.preprocessing import LabelEncoder\n",
        "from scipy.sparse import coo_matrix\n",
        "\n",
        "# Encode user and beer IDs\n",
        "user_encoder = LabelEncoder()\n",
        "item_encoder = LabelEncoder()\n",
        "\n",
        "df['user_idx'] = user_encoder.fit_transform(df['review_profilename'])\n",
        "df['item_idx'] = item_encoder.fit_transform(df['beer_beerid'])\n",
        "\n",
        "# Create a sparse matrix for user-item ratings\n",
        "R_sparse = coo_matrix((df['review_taste'], (df['user_idx'], df['item_idx'])))\n"
      ],
      "metadata": {
        "id": "mzAYMHjFXtTh"
      },
      "execution_count": 31,
      "outputs": []
    },
    {
      "cell_type": "code",
      "source": [
        "for i in range(5):\n",
        "    print(R_sparse.row[i], R_sparse.col[i], R_sparse.data[i])"
      ],
      "metadata": {
        "colab": {
          "base_uri": "https://localhost:8080/"
        },
        "id": "ZeuPX0KebgZO",
        "outputId": "ca95ac9c-af6e-48b3-cebf-27644c06ce37"
      },
      "execution_count": 37,
      "outputs": [
        {
          "output_type": "stream",
          "name": "stdout",
          "text": [
            "171 129 4.0\n",
            "40 24810 5.0\n",
            "150 71 4.0\n",
            "150 216 3.5\n",
            "150 876 4.5\n"
          ]
        }
      ]
    },
    {
      "cell_type": "code",
      "source": [
        "def als_step_sparse(R_sparse, P, Q, lambda_reg, n_factors):\n",
        "    # Convert sparse matrix to CSR format for efficient row-wise access\n",
        "    R_csr = R_sparse.tocsr() # Change to CSR format\n",
        "\n",
        "    # Update user matrix P\n",
        "    for u in range(R_sparse.shape[0]):\n",
        "        indices = R_csr[u].indices  # Find rated items for user u using CSR indexing\n",
        "        Q_i = Q[indices, :]\n",
        "        R_u = R_csr[u, indices].toarray().flatten()\n",
        "        P[u, :] = np.linalg.solve(np.dot(Q_i.T, Q_i) + lambda_reg * np.eye(n_factors),\n",
        "                                  np.dot(Q_i.T, R_u))\n",
        "\n",
        "    # Convert sparse matrix to CSC format for efficient column-wise access\n",
        "    R_csc = R_sparse.tocsc() # Change to CSC format\n",
        "\n",
        "    # Update item matrix Q\n",
        "    for i in range(R_sparse.shape[1]):\n",
        "        indices = R_csc[:, i].indices  # Find users who rated this item using CSC indexing\n",
        "        P_u = P[indices, :]\n",
        "        R_i = R_csc[indices, i].toarray().flatten()\n",
        "        Q[i, :] = np.linalg.solve(np.dot(P_u.T, P_u) + lambda_reg * np.eye(n_factors),\n",
        "                                  np.dot(P_u.T, R_i))\n",
        "\n",
        "    return P, Q"
      ],
      "metadata": {
        "id": "iAhNTaBFb-yd"
      },
      "execution_count": 43,
      "outputs": []
    },
    {
      "cell_type": "code",
      "source": [
        "def train_als_sparse(R_sparse, P, Q, lambda_reg, n_factors, n_iterations):\n",
        "    for iteration in range(n_iterations):\n",
        "        P, Q = als_step_sparse(R_sparse, P, Q, lambda_reg, n_factors)\n",
        "        # You can compute error or skip if it's too costly\n",
        "        print(f\"Iteration {iteration+1}/{n_iterations} complete.\")\n",
        "    return P, Q\n",
        "\n",
        "# Define parameters\n",
        "lambda_reg = 0.1\n",
        "n_factors = 10\n",
        "n_iterations = 20\n",
        "\n",
        "# Initialize random latent factors for P (users) and Q (items)\n",
        "P = np.random.rand(R_sparse.shape[0], n_factors)\n",
        "Q = np.random.rand(R_sparse.shape[1], n_factors)\n",
        "\n",
        "# Train ALS\n",
        "P_trained, Q_trained = train_als_sparse(R_sparse, P, Q, lambda_reg, n_factors, n_iterations)"
      ],
      "metadata": {
        "colab": {
          "base_uri": "https://localhost:8080/"
        },
        "id": "JJz8XKPWcAod",
        "outputId": "924597d3-9b04-4bb5-8166-53ab0f4ff938"
      },
      "execution_count": 44,
      "outputs": [
        {
          "output_type": "stream",
          "name": "stdout",
          "text": [
            "Iteration 1/20 complete.\n",
            "Iteration 2/20 complete.\n",
            "Iteration 3/20 complete.\n",
            "Iteration 4/20 complete.\n",
            "Iteration 5/20 complete.\n",
            "Iteration 6/20 complete.\n",
            "Iteration 7/20 complete.\n",
            "Iteration 8/20 complete.\n",
            "Iteration 9/20 complete.\n",
            "Iteration 10/20 complete.\n",
            "Iteration 11/20 complete.\n",
            "Iteration 12/20 complete.\n",
            "Iteration 13/20 complete.\n",
            "Iteration 14/20 complete.\n",
            "Iteration 15/20 complete.\n",
            "Iteration 16/20 complete.\n",
            "Iteration 17/20 complete.\n",
            "Iteration 18/20 complete.\n",
            "Iteration 19/20 complete.\n",
            "Iteration 20/20 complete.\n"
          ]
        }
      ]
    },
    {
      "cell_type": "markdown",
      "source": [
        "**Predict for Sparse Data**"
      ],
      "metadata": {
        "id": "pRzK8C7Qj915"
      }
    },
    {
      "cell_type": "code",
      "source": [
        "def predict_sparse(R_sparse, P, Q):\n",
        "    R_coo = R_sparse.tocoo()\n",
        "    predictions = []\n",
        "    for u, i in zip(R_coo.row, R_coo.col):\n",
        "        pred_rating = np.dot(P[u, :], Q[i, :].T)\n",
        "        predictions.append(pred_rating)\n",
        "    return predictions\n",
        "\n",
        "# Get predicted ratings for non-zero interactions\n",
        "predicted_ratings = predict_sparse(R_sparse, P_trained, Q_trained)\n"
      ],
      "metadata": {
        "id": "QhsLF4i6ddk0"
      },
      "execution_count": 45,
      "outputs": []
    },
    {
      "cell_type": "code",
      "source": [
        "predicted_ratings[:5]"
      ],
      "metadata": {
        "colab": {
          "base_uri": "https://localhost:8080/"
        },
        "id": "9kVCSWsDfaEC",
        "outputId": "82238e50-51fb-447a-c406-d272993d3a08"
      },
      "execution_count": 46,
      "outputs": [
        {
          "output_type": "execute_result",
          "data": {
            "text/plain": [
              "[3.8755446043278825,\n",
              " 4.80664823142946,\n",
              " 4.025245906846221,\n",
              " 3.501057894749321,\n",
              " 4.35720328673041]"
            ]
          },
          "metadata": {},
          "execution_count": 46
        }
      ]
    },
    {
      "cell_type": "code",
      "source": [
        "import numpy as np\n",
        "from scipy.sparse import coo_matrix\n",
        "\n",
        "def predict_sparse(R_sparse, P, Q):\n",
        "    R_pred = np.dot(P, Q.T)\n",
        "    return R_pred"
      ],
      "metadata": {
        "id": "HeGA7i0zdUpd"
      },
      "execution_count": 47,
      "outputs": []
    },
    {
      "cell_type": "code",
      "source": [
        "def calculate_rmse(R_sparse, P, Q):\n",
        "    R_pred = predict_sparse(R_sparse, P, Q)\n",
        "    R_coo = R_sparse.tocoo()  # COO format to access data easily\n",
        "\n",
        "    # Get the actual ratings and predicted ratings for non-zero entries\n",
        "    actual_ratings = R_coo.data\n",
        "    predicted_ratings = R_pred[R_coo.row, R_coo.col]\n",
        "\n",
        "    # Calculate RMSE\n",
        "    mse = np.mean((actual_ratings - predicted_ratings) ** 2)\n",
        "    rmse = np.sqrt(mse)\n",
        "\n",
        "    return rmse"
      ],
      "metadata": {
        "id": "wvQOUKAgdVS-"
      },
      "execution_count": 48,
      "outputs": []
    },
    {
      "cell_type": "code",
      "source": [
        "# Assuming P and Q are your trained matrices, and R_sparse is your sparse matrix\n",
        "rmse = calculate_rmse(R_sparse, P_trained, Q_trained)\n",
        "print(f'RMSE: {rmse:.4f}')"
      ],
      "metadata": {
        "colab": {
          "base_uri": "https://localhost:8080/"
        },
        "id": "EugLIlpZdWgI",
        "outputId": "73c03df5-6e73-4d0d-d865-4e172a431d15"
      },
      "execution_count": 49,
      "outputs": [
        {
          "output_type": "stream",
          "name": "stdout",
          "text": [
            "RMSE: 0.5390\n"
          ]
        }
      ]
    },
    {
      "cell_type": "markdown",
      "source": [
        "**Testing with testset.csv**"
      ],
      "metadata": {
        "id": "72RAND4khyaa"
      }
    },
    {
      "cell_type": "code",
      "source": [
        "file_path2 = '/content/drive/MyDrive/Recommender/Beer_taste_Reviews_1M_testset.csv'\n",
        "test_df = pd.read_csv(file_path2)\n",
        "\n",
        "# Encode users and items in the testing dataset using the same encoders as the training data\n",
        "test_df['user_idx'] = user_encoder.transform(test_df['review_profilename'])\n",
        "\n",
        "known_items = item_encoder.classes_\n",
        "\n",
        "# Find unknown item IDs in the test set\n",
        "unknown_items = set(test_df['beer_beerid']) - set(known_items)\n",
        "\n",
        "# Handle unknown items (e.g., assign a default index or remove them)\n",
        "if unknown_items:\n",
        "    # Option 1: Assign a default index (e.g., -1)\n",
        "    test_df['item_idx'] = test_df['beer_beerid'].apply(lambda x: item_encoder.transform([x])[0] if x in known_items else -1)\n"
      ],
      "metadata": {
        "id": "NQC2hpURh33K"
      },
      "execution_count": 54,
      "outputs": []
    },
    {
      "cell_type": "code",
      "source": [
        "def predict_for_test_data(test_df, P, Q):\n",
        "    # Use the trained matrices P and Q to predict ratings\n",
        "    R_pred = np.dot(P, Q.T)\n",
        "\n",
        "    # Extract predicted ratings for the user-item pairs in the test dataset\n",
        "    predicted_ratings = R_pred[test_df['user_idx'].values, test_df['item_idx'].values]\n",
        "    return predicted_ratings\n",
        "\n",
        "# Generate predictions for the test data\n",
        "predicted_ratings = predict_for_test_data(test_df, P_trained, Q_trained)"
      ],
      "metadata": {
        "id": "2crprTw6jZGq"
      },
      "execution_count": 57,
      "outputs": []
    },
    {
      "cell_type": "code",
      "source": [
        "def calculate_rmse_test_data(test_df, predicted_ratings):\n",
        "    # Actual ratings from the test dataset\n",
        "    actual_ratings = test_df['review_taste'].values\n",
        "\n",
        "    # Calculate RMSE\n",
        "    mse = np.mean((actual_ratings - predicted_ratings) ** 2)\n",
        "    rmse = np.sqrt(mse)\n",
        "\n",
        "    return rmse\n",
        "\n",
        "# Calculate RMSE for the test data\n",
        "rmse_test = calculate_rmse_test_data(test_df, predicted_ratings)\n",
        "print(f'RMSE on Test Data: {rmse_test:.4f}')"
      ],
      "metadata": {
        "colab": {
          "base_uri": "https://localhost:8080/"
        },
        "id": "2E0sDdhBjb07",
        "outputId": "7ef591f3-50bf-4940-a954-dfdbd22e0a12"
      },
      "execution_count": 58,
      "outputs": [
        {
          "output_type": "stream",
          "name": "stdout",
          "text": [
            "RMSE on Test Data: 0.6330\n"
          ]
        }
      ]
    }
  ]
}